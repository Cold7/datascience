{
  "nbformat": 4,
  "nbformat_minor": 0,
  "metadata": {
    "colab": {
      "name": "statistics_from_scratch.ipynb",
      "provenance": [],
      "collapsed_sections": []
    },
    "kernelspec": {
      "name": "python3",
      "display_name": "Python 3"
    },
    "language_info": {
      "name": "python"
    }
  },
  "cells": [
    {
      "cell_type": "code",
      "metadata": {
        "colab": {
          "base_uri": "https://localhost:8080/",
          "height": 295
        },
        "id": "ovw7eUlNofmf",
        "outputId": "7620b513-7b05-47e6-8f3c-e7929642cca7"
      },
      "source": [
        "#statistics from scratch\n",
        "from collections import Counter\n",
        "import matplotlib.pyplot as plt\n",
        "import random\n",
        "#num_friends = [100,49,41,40,25]\n",
        "num_friends = [random.randint(0,100) for i in range(204)] #making a random list\n",
        "friend_counts = Counter(num_friends)\n",
        "\n",
        "xs = range(101) #largest value is 100\n",
        "ys = [friend_counts[x] for x in xs]\n",
        "plt.bar(xs, ys)\n",
        "plt.axis([0,101,0,10])\n",
        "plt.title(\"Histogram of friend counts\")\n",
        "plt.xlabel(\"# of friends\")\n",
        "plt.ylabel(\"# of people\")\n",
        "plt.show()"
      ],
      "execution_count": 1,
      "outputs": [
        {
          "output_type": "display_data",
          "data": {
            "image/png": "[encoded data removed]",
            "text/plain": [
              "<Figure size 432x288 with 1 Axes>"
            ]
          },
          "metadata": {
            "needs_background": "light"
          }
        }
      ]
    },
    {
      "cell_type": "code",
      "metadata": {
        "colab": {
          "base_uri": "https://localhost:8080/"
        },
        "id": "onncl7rfrFXe",
        "outputId": "c371cdd1-ab7d-48a8-9185-53a4e3c83c65"
      },
      "source": [
        "#describing data\n",
        "num_point =len(num_friends)\n",
        "print(\"num of data points:\", num_point)"
      ],
      "execution_count": 2,
      "outputs": [
        {
          "output_type": "stream",
          "name": "stdout",
          "text": [
            "num of data points: 204\n"
          ]
        }
      ]
    },
    {
      "cell_type": "code",
      "metadata": {
        "colab": {
          "base_uri": "https://localhost:8080/"
        },
        "id": "7PAd-XBRtYeR",
        "outputId": "01c05636-ceea-4643-e88b-e982ce8e1c79"
      },
      "source": [
        "#largest and smaller values\n",
        "largest_value = max(num_friends)\n",
        "smaller_value = min(num_friends)\n",
        "print(\"largest and smaller values are\", largest_value,\"and\", smaller_value)"
      ],
      "execution_count": 3,
      "outputs": [
        {
          "output_type": "stream",
          "name": "stdout",
          "text": [
            "largest and smaller values are 100 and 0\n"
          ]
        }
      ]
    },
    {
      "cell_type": "code",
      "metadata": {
        "colab": {
          "base_uri": "https://localhost:8080/"
        },
        "id": "rPoc-Ajbt_Z1",
        "outputId": "90627206-d8f4-46a9-c2fd-7bf988108d20"
      },
      "source": [
        "#central tendencies\n",
        "#mean / average\n",
        "from typing import List\n",
        "def mean(xs: List[float]) -> float:\n",
        "  return sum(xs)/len(xs)\n",
        "print(\"mean of # of friends: \",mean(num_friends))\n",
        "\n",
        "#median\n",
        "\n",
        "def median(v: List[float]) -> float:\n",
        "  sorted_v = sorted(v)\n",
        "  midpoint = len(v) // 2\n",
        "  if len(v)%2 == 0:  #average of two central elements\n",
        "    return (sorted_v[midpoint-1]+sorted_v[midpoint])/2\n",
        "  else:\n",
        "    return sorted_v[midpoint]\n",
        "\n",
        "print(\"median of [1,3,2]\", median([1,3,2]))\n",
        "print(\"median of [1,2,3,4]\", median([1,2,3,4]))\n",
        "print(\"median of # of friends\", median(num_friends))\n",
        "\n",
        "#quantile\n",
        "def quantile(xs: List[float], p: float) -> float:\n",
        "  #return the pth-percentile value\n",
        "  p_index = int(p*len(xs))\n",
        "  return sorted(xs)[p_index]\n",
        "\n",
        "print(\"first decile: \",quantile(num_friends, 0.1))\n",
        "print(\"first quantile: \",quantile(num_friends, 0.25))\n",
        "print(\"second quantile: \",quantile(num_friends, 0.50))\n",
        "print(\"third quantile:\", quantile(num_friends, 0.75))\n",
        "\n",
        "#mode\n",
        "def mode(x:List[float]) -> List[float]:\n",
        "  #return a list, since there might be more than one mode\n",
        "  counts = Counter(x)\n",
        "  max_count = max(counts.values())\n",
        "  return [x_i for x_i, count in counts.items() if count == max_count]\n",
        "\n",
        "print(\"mode of num of friends: \", mode(num_friends))\n",
        "print(\"mode of num of [1,2,3,4,3,2,2]: \", mode([1,2,3,4,3,2,2]))"
      ],
      "execution_count": 4,
      "outputs": [
        {
          "output_type": "stream",
          "name": "stdout",
          "text": [
            "mean of # of friends:  50.97549019607843\n",
            "median of [1,3,2] 2\n",
            "median of [1,2,3,4] 2.5\n",
            "median of # of friends 50.5\n",
            "first decile:  8\n",
            "first quantile:  24\n",
            "second quantile:  52\n",
            "third quantile: 78\n",
            "mode of num of friends:  [36]\n",
            "mode of num of [1,2,3,4,3,2,2]:  [2]\n"
          ]
        }
      ]
    },
    {
      "cell_type": "code",
      "metadata": {
        "colab": {
          "base_uri": "https://localhost:8080/"
        },
        "id": "Qs78L4kQQoHO",
        "outputId": "5b88e29b-5b9e-48fd-bc6c-81c2dbc01d43"
      },
      "source": [
        "#dispersion: how spread is our data\n",
        "\n",
        "#measuring \"range\" i.e. difference between alrgest and smallest element\n",
        "def data_range(xs:  List[float]) -> float:\n",
        "  return max(xs) - min(xs)\n",
        "\n",
        "print(\"range between num_friends:\", data_range(num_friends)) #100 cause is 100 - 0. if all elements are equal then range is 0\n",
        "\n",
        "#range may not be usefull if there are outliers (for example 1 zero and all other are 100)\n",
        "#so we will compute variance\n",
        "import math \n",
        "def de_mean(xs: List[float], pow: int) -> List[float]:\n",
        "  #translate xs by substracting it mean (so the result has mean 0)\n",
        "  x_bar = mean(xs)\n",
        "  return [math.pow((x - x_bar),2) for x in xs]\n",
        "\n",
        "def variance(xs: List[float]) -> float:\n",
        "  #almost the average squared deviation from the mean\n",
        "  assert len(xs)  > 2, \"variance requires at leats 2 elements\"\n",
        "  n = len(xs)\n",
        "  deviation = de_mean(xs, pow)\n",
        "  return sum(deviation)/(n - 1)\n",
        "\n",
        "print(\"variance of num_friends:\", variance(num_friends))\n",
        "print(\"sqrt of num_friends:\", math.sqrt(variance(num_friends)))\n",
        "\n",
        "#The problem with outliers is still here, so a more robust alternative is to compute the difference between the 75 and 25 percentile values\n",
        "\n",
        "def interquartile_range(xs: List[float]) -> float:\n",
        "  #returns the difference between the 75%-ile and 25%-ile\n",
        "  return quantile(xs,0.75) -quantile(xs,0.25)\n",
        "\n",
        "print(\"interquantile difference (75% - 25% ile) of num friends is:\", interquartile_range(num_friends))"
      ],
      "execution_count": 5,
      "outputs": [
        {
          "output_type": "stream",
          "name": "stdout",
          "text": [
            "range between num_friends: 100\n",
            "variance of num_friends: 927.3540761132044\n",
            "sqrt of num_friends: 30.452488832822915\n",
            "interquantile difference (75% - 25% ile) of num friends is: 54\n"
          ]
        }
      ]
    },
    {
      "cell_type": "code",
      "metadata": {
        "colab": {
          "base_uri": "https://localhost:8080/"
        },
        "id": "htSi6oVMZIw_",
        "outputId": "10acafbf-fac5-4dba-b516-24d07465af20"
      },
      "source": [
        "#Covariance indicates the level to which two variables vary together.\n",
        "def covariate(xs: List[float], ys: List[float]) -> float:\n",
        "  mean_xs = mean(xs)\n",
        "  mean_ys = mean(ys)\n",
        "  assert len(xs) == len(ys), \"covariance need the same number of elements in both lists\"\n",
        " # for x_i, y_i in zip(xs,ys):\n",
        "  covariance = ([(x_i-mean_xs)*(y_i-mean_ys) for x_i, y_i in zip(xs,ys)])\n",
        "  covariance = sum(covariance)/(len(xs)-1)\n",
        "  return covariance\n",
        "\n",
        "print(\"covariate of [0,4,8] & [5,5,8] is \",covariate([0,4,8],[5,5,8])) #a positive values is a positive relationship\n",
        "#a larger positive covariance means that x tends to be large when y is large\n",
        "#a larger negative covariance means the opposite, that x tends to be small when \n",
        "#y is larve and viceversa\n",
        "\n",
        "#this number is hard to interpret, cause units are the product of the input units\n",
        "#(example friends-minutes-per-day)\n",
        "#if we compare friends and time spending in a platform like facebook, if each\n",
        "#user had twice as many friends(but the same number of minutes) the covariance\n",
        "#would be twice as large. but in a sense, the variables would be just as iterrelated \n",
        "#(in other words its hard to say what counts as a large covariance)\n",
        "\n",
        "#for these reasons we look for correlation, diciding the standar deviation of both variables\n",
        "def correlation(xs: List[float], ys: List[float]) -> float:\n",
        "  #measures how much xs and ys vary in tandem about their means in range between -1 and 1\n",
        "  stdev_x = math.sqrt(variance(xs))\n",
        "  stdev_y = math.sqrt(variance(ys))\n",
        "  if stdev_x >0 and stdev_y >0:\n",
        "    return covariate(xs,ys)/(stdev_x *stdev_y)\n",
        "  else:\n",
        "    return 0 # if no variation, correlation is 0\n",
        "\n",
        "print(\"correlation of [0,4,8] & [-5,-20,-32] is\",correlation([0,4,8],[-5,-20,-32])) \n",
        "  \n",
        "#correlation can be very sensitive to outliers, so deleting them we could get much more strong correlations (if we can)"
      ],
      "execution_count": 6,
      "outputs": [
        {
          "output_type": "stream",
          "name": "stdout",
          "text": [
            "covariate of [0,4,8] & [5,5,8] is  6.0\n",
            "correlation of [0,4,8] & [-5,-20,-32] is -0.9979487157886733\n"
          ]
        }
      ]
    }
  ]
}