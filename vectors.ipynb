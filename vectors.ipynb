{
  "nbformat": 4,
  "nbformat_minor": 0,
  "metadata": {
    "colab": {
      "name": "vectors.ipynb",
      "provenance": [],
      "collapsed_sections": []
    },
    "kernelspec": {
      "name": "python3",
      "display_name": "Python 3"
    },
    "language_info": {
      "name": "python"
    }
  },
  "cells": [
    {
      "cell_type": "code",
      "metadata": {
        "id": "YjtmfSK4VKYK"
      },
      "source": [
        "#linear algebra from scratch\n",
        "from typing import List\n",
        "\n",
        "Vector = List[float] #alias that says aVector is just a list of floats\n"
      ],
      "execution_count": null,
      "outputs": []
    },
    {
      "cell_type": "code",
      "metadata": {
        "id": "s5Aem5DGVvlJ"
      },
      "source": [
        "#examples of vectors (from scratch)\n",
        "height_weight_age = [70, #inches\n",
        "                     170, #pounds\n",
        "                     40] #years\n",
        "grades = [95, #exam1\n",
        "          80, #exam2\n",
        "          75, #exam3\n",
        "          62] #exam 4"
      ],
      "execution_count": null,
      "outputs": []
    },
    {
      "cell_type": "code",
      "metadata": {
        "id": "IxohcPp4WorV",
        "colab": {
          "base_uri": "https://localhost:8080/"
        },
        "outputId": "027e8b5e-7a04-43ae-a7a3-88f8c2b05385"
      },
      "source": [
        "#adding vectors\n",
        "def add(v:Vector, w:Vector) -> Vector:\n",
        "  \"\"\"add corresponding elements\"\"\"\n",
        "  return [v_i + w_i for v_i, w_i in zip(v,w)]\n",
        "print(add([1,2,3],[4,5,6])) #[5,7,9]"
      ],
      "execution_count": null,
      "outputs": [
        {
          "output_type": "stream",
          "name": "stdout",
          "text": [
            "[5, 7, 9]\n"
          ]
        }
      ]
    },
    {
      "cell_type": "code",
      "metadata": {
        "colab": {
          "base_uri": "https://localhost:8080/"
        },
        "id": "34Y4oIRlo9O9",
        "outputId": "7c142866-d781-4753-b5d3-bbd3922bbf9d"
      },
      "source": [
        "def substract(v:Vector, w:Vector) -> Vector:\n",
        "  \"\"\"add corresponding elements\"\"\"\n",
        "  return [v_i - w_i for v_i, w_i in zip(v,w)]\n",
        "print(substract([5,7,9],[4,5,6])) #[1,2,3]"
      ],
      "execution_count": null,
      "outputs": [
        {
          "output_type": "stream",
          "name": "stdout",
          "text": [
            "[1, 2, 3]\n"
          ]
        }
      ]
    },
    {
      "cell_type": "code",
      "metadata": {
        "colab": {
          "base_uri": "https://localhost:8080/"
        },
        "id": "GZsxGksbqK5f",
        "outputId": "1c4cc2a5-871f-4ee0-b3b7-efb5569bd668"
      },
      "source": [
        "#multiplying vector by scalar\n",
        "def scalar_multiply(c: float, v:Vector) -> Vector:\n",
        "  return [c*v_i for v_i in v]\n",
        "\n",
        "print(scalar_multiply(2,[1,2,3])) #2,4,6"
      ],
      "execution_count": null,
      "outputs": [
        {
          "output_type": "stream",
          "name": "stdout",
          "text": [
            "[2, 4, 6]\n"
          ]
        }
      ]
    },
    {
      "cell_type": "code",
      "metadata": {
        "id": "mBIAIGBOqnDz"
      },
      "source": [
        ""
      ],
      "execution_count": null,
      "outputs": []
    }
  ]
}